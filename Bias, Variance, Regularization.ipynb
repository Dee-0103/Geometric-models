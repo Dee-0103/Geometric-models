{
 "cells": [
  {
   "cell_type": "code",
   "execution_count": 2,
   "id": "4a27ee73",
   "metadata": {},
   "outputs": [],
   "source": [
    "# Linear Model"
   ]
  },
  {
   "cell_type": "code",
   "execution_count": 3,
   "id": "68fc2a56",
   "metadata": {},
   "outputs": [],
   "source": [
    "import pandas as pd\n",
    "import numpy as np"
   ]
  },
  {
   "cell_type": "code",
   "execution_count": 4,
   "id": "ad00ac02",
   "metadata": {},
   "outputs": [],
   "source": [
    "df_b=pd.read_csv(\"C:/Users/Dell/Downloads/boston_dataset.csv\")"
   ]
  },
  {
   "cell_type": "code",
   "execution_count": 5,
   "id": "44c2b91e",
   "metadata": {},
   "outputs": [
    {
     "data": {
      "text/html": [
       "<div>\n",
       "<style scoped>\n",
       "    .dataframe tbody tr th:only-of-type {\n",
       "        vertical-align: middle;\n",
       "    }\n",
       "\n",
       "    .dataframe tbody tr th {\n",
       "        vertical-align: top;\n",
       "    }\n",
       "\n",
       "    .dataframe thead th {\n",
       "        text-align: right;\n",
       "    }\n",
       "</style>\n",
       "<table border=\"1\" class=\"dataframe\">\n",
       "  <thead>\n",
       "    <tr style=\"text-align: right;\">\n",
       "      <th></th>\n",
       "      <th>Unnamed: 0</th>\n",
       "      <th>crim</th>\n",
       "      <th>zn</th>\n",
       "      <th>indus</th>\n",
       "      <th>chas</th>\n",
       "      <th>nox</th>\n",
       "      <th>rm</th>\n",
       "      <th>age</th>\n",
       "      <th>dis</th>\n",
       "      <th>rad</th>\n",
       "      <th>tax</th>\n",
       "      <th>ptratio</th>\n",
       "      <th>black</th>\n",
       "      <th>lstat</th>\n",
       "      <th>medv</th>\n",
       "    </tr>\n",
       "  </thead>\n",
       "  <tbody>\n",
       "    <tr>\n",
       "      <th>0</th>\n",
       "      <td>1</td>\n",
       "      <td>0.00632</td>\n",
       "      <td>18.0</td>\n",
       "      <td>2.31</td>\n",
       "      <td>0</td>\n",
       "      <td>0.538</td>\n",
       "      <td>6.575</td>\n",
       "      <td>65.2</td>\n",
       "      <td>4.0900</td>\n",
       "      <td>1</td>\n",
       "      <td>296</td>\n",
       "      <td>15.3</td>\n",
       "      <td>396.90</td>\n",
       "      <td>4.98</td>\n",
       "      <td>24.0</td>\n",
       "    </tr>\n",
       "    <tr>\n",
       "      <th>1</th>\n",
       "      <td>2</td>\n",
       "      <td>0.02731</td>\n",
       "      <td>0.0</td>\n",
       "      <td>7.07</td>\n",
       "      <td>0</td>\n",
       "      <td>0.469</td>\n",
       "      <td>6.421</td>\n",
       "      <td>78.9</td>\n",
       "      <td>4.9671</td>\n",
       "      <td>2</td>\n",
       "      <td>242</td>\n",
       "      <td>17.8</td>\n",
       "      <td>396.90</td>\n",
       "      <td>9.14</td>\n",
       "      <td>21.6</td>\n",
       "    </tr>\n",
       "    <tr>\n",
       "      <th>2</th>\n",
       "      <td>3</td>\n",
       "      <td>0.02729</td>\n",
       "      <td>0.0</td>\n",
       "      <td>7.07</td>\n",
       "      <td>0</td>\n",
       "      <td>0.469</td>\n",
       "      <td>7.185</td>\n",
       "      <td>61.1</td>\n",
       "      <td>4.9671</td>\n",
       "      <td>2</td>\n",
       "      <td>242</td>\n",
       "      <td>17.8</td>\n",
       "      <td>392.83</td>\n",
       "      <td>4.03</td>\n",
       "      <td>34.7</td>\n",
       "    </tr>\n",
       "    <tr>\n",
       "      <th>3</th>\n",
       "      <td>4</td>\n",
       "      <td>0.03237</td>\n",
       "      <td>0.0</td>\n",
       "      <td>2.18</td>\n",
       "      <td>0</td>\n",
       "      <td>0.458</td>\n",
       "      <td>6.998</td>\n",
       "      <td>45.8</td>\n",
       "      <td>6.0622</td>\n",
       "      <td>3</td>\n",
       "      <td>222</td>\n",
       "      <td>18.7</td>\n",
       "      <td>394.63</td>\n",
       "      <td>2.94</td>\n",
       "      <td>33.4</td>\n",
       "    </tr>\n",
       "    <tr>\n",
       "      <th>4</th>\n",
       "      <td>5</td>\n",
       "      <td>0.06905</td>\n",
       "      <td>0.0</td>\n",
       "      <td>2.18</td>\n",
       "      <td>0</td>\n",
       "      <td>0.458</td>\n",
       "      <td>7.147</td>\n",
       "      <td>54.2</td>\n",
       "      <td>6.0622</td>\n",
       "      <td>3</td>\n",
       "      <td>222</td>\n",
       "      <td>18.7</td>\n",
       "      <td>396.90</td>\n",
       "      <td>5.33</td>\n",
       "      <td>36.2</td>\n",
       "    </tr>\n",
       "  </tbody>\n",
       "</table>\n",
       "</div>"
      ],
      "text/plain": [
       "   Unnamed: 0     crim    zn  indus  chas    nox     rm   age     dis  rad  \\\n",
       "0           1  0.00632  18.0   2.31     0  0.538  6.575  65.2  4.0900    1   \n",
       "1           2  0.02731   0.0   7.07     0  0.469  6.421  78.9  4.9671    2   \n",
       "2           3  0.02729   0.0   7.07     0  0.469  7.185  61.1  4.9671    2   \n",
       "3           4  0.03237   0.0   2.18     0  0.458  6.998  45.8  6.0622    3   \n",
       "4           5  0.06905   0.0   2.18     0  0.458  7.147  54.2  6.0622    3   \n",
       "\n",
       "   tax  ptratio   black  lstat  medv  \n",
       "0  296     15.3  396.90   4.98  24.0  \n",
       "1  242     17.8  396.90   9.14  21.6  \n",
       "2  242     17.8  392.83   4.03  34.7  \n",
       "3  222     18.7  394.63   2.94  33.4  \n",
       "4  222     18.7  396.90   5.33  36.2  "
      ]
     },
     "execution_count": 5,
     "metadata": {},
     "output_type": "execute_result"
    }
   ],
   "source": [
    "df_b.head()"
   ]
  },
  {
   "cell_type": "code",
   "execution_count": 6,
   "id": "558a4515",
   "metadata": {},
   "outputs": [],
   "source": [
    "df_b=df_b.drop(\"Unnamed: 0\",axis=1)"
   ]
  },
  {
   "cell_type": "code",
   "execution_count": 7,
   "id": "833a68ea",
   "metadata": {},
   "outputs": [
    {
     "data": {
      "text/html": [
       "<div>\n",
       "<style scoped>\n",
       "    .dataframe tbody tr th:only-of-type {\n",
       "        vertical-align: middle;\n",
       "    }\n",
       "\n",
       "    .dataframe tbody tr th {\n",
       "        vertical-align: top;\n",
       "    }\n",
       "\n",
       "    .dataframe thead th {\n",
       "        text-align: right;\n",
       "    }\n",
       "</style>\n",
       "<table border=\"1\" class=\"dataframe\">\n",
       "  <thead>\n",
       "    <tr style=\"text-align: right;\">\n",
       "      <th></th>\n",
       "      <th>crim</th>\n",
       "      <th>zn</th>\n",
       "      <th>indus</th>\n",
       "      <th>chas</th>\n",
       "      <th>nox</th>\n",
       "      <th>rm</th>\n",
       "      <th>age</th>\n",
       "      <th>dis</th>\n",
       "      <th>rad</th>\n",
       "      <th>tax</th>\n",
       "      <th>ptratio</th>\n",
       "      <th>black</th>\n",
       "      <th>lstat</th>\n",
       "      <th>medv</th>\n",
       "    </tr>\n",
       "  </thead>\n",
       "  <tbody>\n",
       "    <tr>\n",
       "      <th>0</th>\n",
       "      <td>0.00632</td>\n",
       "      <td>18.0</td>\n",
       "      <td>2.31</td>\n",
       "      <td>0</td>\n",
       "      <td>0.538</td>\n",
       "      <td>6.575</td>\n",
       "      <td>65.2</td>\n",
       "      <td>4.0900</td>\n",
       "      <td>1</td>\n",
       "      <td>296</td>\n",
       "      <td>15.3</td>\n",
       "      <td>396.90</td>\n",
       "      <td>4.98</td>\n",
       "      <td>24.0</td>\n",
       "    </tr>\n",
       "    <tr>\n",
       "      <th>1</th>\n",
       "      <td>0.02731</td>\n",
       "      <td>0.0</td>\n",
       "      <td>7.07</td>\n",
       "      <td>0</td>\n",
       "      <td>0.469</td>\n",
       "      <td>6.421</td>\n",
       "      <td>78.9</td>\n",
       "      <td>4.9671</td>\n",
       "      <td>2</td>\n",
       "      <td>242</td>\n",
       "      <td>17.8</td>\n",
       "      <td>396.90</td>\n",
       "      <td>9.14</td>\n",
       "      <td>21.6</td>\n",
       "    </tr>\n",
       "    <tr>\n",
       "      <th>2</th>\n",
       "      <td>0.02729</td>\n",
       "      <td>0.0</td>\n",
       "      <td>7.07</td>\n",
       "      <td>0</td>\n",
       "      <td>0.469</td>\n",
       "      <td>7.185</td>\n",
       "      <td>61.1</td>\n",
       "      <td>4.9671</td>\n",
       "      <td>2</td>\n",
       "      <td>242</td>\n",
       "      <td>17.8</td>\n",
       "      <td>392.83</td>\n",
       "      <td>4.03</td>\n",
       "      <td>34.7</td>\n",
       "    </tr>\n",
       "    <tr>\n",
       "      <th>3</th>\n",
       "      <td>0.03237</td>\n",
       "      <td>0.0</td>\n",
       "      <td>2.18</td>\n",
       "      <td>0</td>\n",
       "      <td>0.458</td>\n",
       "      <td>6.998</td>\n",
       "      <td>45.8</td>\n",
       "      <td>6.0622</td>\n",
       "      <td>3</td>\n",
       "      <td>222</td>\n",
       "      <td>18.7</td>\n",
       "      <td>394.63</td>\n",
       "      <td>2.94</td>\n",
       "      <td>33.4</td>\n",
       "    </tr>\n",
       "    <tr>\n",
       "      <th>4</th>\n",
       "      <td>0.06905</td>\n",
       "      <td>0.0</td>\n",
       "      <td>2.18</td>\n",
       "      <td>0</td>\n",
       "      <td>0.458</td>\n",
       "      <td>7.147</td>\n",
       "      <td>54.2</td>\n",
       "      <td>6.0622</td>\n",
       "      <td>3</td>\n",
       "      <td>222</td>\n",
       "      <td>18.7</td>\n",
       "      <td>396.90</td>\n",
       "      <td>5.33</td>\n",
       "      <td>36.2</td>\n",
       "    </tr>\n",
       "  </tbody>\n",
       "</table>\n",
       "</div>"
      ],
      "text/plain": [
       "      crim    zn  indus  chas    nox     rm   age     dis  rad  tax  ptratio  \\\n",
       "0  0.00632  18.0   2.31     0  0.538  6.575  65.2  4.0900    1  296     15.3   \n",
       "1  0.02731   0.0   7.07     0  0.469  6.421  78.9  4.9671    2  242     17.8   \n",
       "2  0.02729   0.0   7.07     0  0.469  7.185  61.1  4.9671    2  242     17.8   \n",
       "3  0.03237   0.0   2.18     0  0.458  6.998  45.8  6.0622    3  222     18.7   \n",
       "4  0.06905   0.0   2.18     0  0.458  7.147  54.2  6.0622    3  222     18.7   \n",
       "\n",
       "    black  lstat  medv  \n",
       "0  396.90   4.98  24.0  \n",
       "1  396.90   9.14  21.6  \n",
       "2  392.83   4.03  34.7  \n",
       "3  394.63   2.94  33.4  \n",
       "4  396.90   5.33  36.2  "
      ]
     },
     "execution_count": 7,
     "metadata": {},
     "output_type": "execute_result"
    }
   ],
   "source": [
    "df_b.head()"
   ]
  },
  {
   "cell_type": "code",
   "execution_count": 8,
   "id": "64ad0ec0",
   "metadata": {},
   "outputs": [
    {
     "data": {
      "text/plain": [
       "crim       float64\n",
       "zn         float64\n",
       "indus      float64\n",
       "chas         int64\n",
       "nox        float64\n",
       "rm         float64\n",
       "age        float64\n",
       "dis        float64\n",
       "rad          int64\n",
       "tax          int64\n",
       "ptratio    float64\n",
       "black      float64\n",
       "lstat      float64\n",
       "medv       float64\n",
       "dtype: object"
      ]
     },
     "execution_count": 8,
     "metadata": {},
     "output_type": "execute_result"
    }
   ],
   "source": [
    "df_b.dtypes"
   ]
  },
  {
   "cell_type": "code",
   "execution_count": 9,
   "id": "0db37b3b",
   "metadata": {},
   "outputs": [],
   "source": [
    "x=df_b.iloc[:,0:13]\n",
    "y=df_b.iloc[:,13]"
   ]
  },
  {
   "cell_type": "code",
   "execution_count": 10,
   "id": "3d499f44",
   "metadata": {},
   "outputs": [],
   "source": [
    "from sklearn.model_selection import train_test_split\n",
    "from sklearn.linear_model import LinearRegression\n",
    "from mlxtend.evaluate import bias_variance_decomp\n",
    "from sklearn.metrics import r2_score"
   ]
  },
  {
   "cell_type": "code",
   "execution_count": 11,
   "id": "1dd2f340",
   "metadata": {},
   "outputs": [],
   "source": [
    "x_tr,x_test,y_tr,y_test=train_test_split(x,y,test_size=0.2,random_state=100)"
   ]
  },
  {
   "cell_type": "code",
   "execution_count": 12,
   "id": "214c9522",
   "metadata": {},
   "outputs": [],
   "source": [
    "model_lm=LinearRegression()"
   ]
  },
  {
   "cell_type": "code",
   "execution_count": 13,
   "id": "4e15a231",
   "metadata": {},
   "outputs": [],
   "source": [
    "mse,bias,variance=bias_variance_decomp(model_lm,x_tr.values,y_tr.values,x_test.values,y_test.values,loss=\"mse\",num_rounds=200,random_seed=1)"
   ]
  },
  {
   "cell_type": "code",
   "execution_count": 14,
   "id": "83238931",
   "metadata": {},
   "outputs": [
    {
     "name": "stdout",
     "output_type": "stream",
     "text": [
      "mse 24.992873247421052\n",
      "bias 23.720867460410272\n",
      "variance 1.2720057870107773\n"
     ]
    }
   ],
   "source": [
    "print(\"mse\",mse)\n",
    "print(\"bias\",bias)\n",
    "print(\"variance\",variance)"
   ]
  },
  {
   "cell_type": "code",
   "execution_count": 15,
   "id": "fb844d0b",
   "metadata": {},
   "outputs": [
    {
     "data": {
      "text/plain": [
       "LinearRegression()"
      ]
     },
     "execution_count": 15,
     "metadata": {},
     "output_type": "execute_result"
    }
   ],
   "source": [
    "model_lm.fit(x_tr,y_tr)"
   ]
  },
  {
   "cell_type": "code",
   "execution_count": 16,
   "id": "57cd986c",
   "metadata": {},
   "outputs": [],
   "source": [
    "p_tr=model_lm.predict(x_tr)"
   ]
  },
  {
   "cell_type": "code",
   "execution_count": 17,
   "id": "c389a20a",
   "metadata": {},
   "outputs": [
    {
     "data": {
      "text/plain": [
       "0.7337332767917557"
      ]
     },
     "execution_count": 17,
     "metadata": {},
     "output_type": "execute_result"
    }
   ],
   "source": [
    "r2_score(y_tr,p_tr)"
   ]
  },
  {
   "cell_type": "code",
   "execution_count": 18,
   "id": "0ecfdacf",
   "metadata": {},
   "outputs": [],
   "source": [
    "p_lm=model_lm.predict(x_test)"
   ]
  },
  {
   "cell_type": "code",
   "execution_count": 19,
   "id": "46635475",
   "metadata": {},
   "outputs": [
    {
     "data": {
      "text/plain": [
       "0.7555033086871304"
      ]
     },
     "execution_count": 19,
     "metadata": {},
     "output_type": "execute_result"
    }
   ],
   "source": [
    "r2_score(y_test,p_lm)"
   ]
  },
  {
   "cell_type": "code",
   "execution_count": 20,
   "id": "c92d6455",
   "metadata": {},
   "outputs": [
    {
     "data": {
      "text/plain": [
       "array([-8.14896492e-02,  4.80407782e-02, -5.47150249e-03,  3.06260576e+00,\n",
       "       -1.61368815e+01,  3.67245067e+00, -8.51525259e-03, -1.51740854e+00,\n",
       "        2.87271007e-01, -1.21207598e-02, -9.24160757e-01,  9.53460812e-03,\n",
       "       -4.85895548e-01])"
      ]
     },
     "execution_count": 20,
     "metadata": {},
     "output_type": "execute_result"
    }
   ],
   "source": [
    "model_lm.coef_"
   ]
  },
  {
   "cell_type": "code",
   "execution_count": 21,
   "id": "321ac740",
   "metadata": {},
   "outputs": [
    {
     "data": {
      "text/plain": [
       "Index(['crim', 'zn', 'indus', 'chas', 'nox', 'rm', 'age', 'dis', 'rad', 'tax',\n",
       "       'ptratio', 'black', 'lstat'],\n",
       "      dtype='object')"
      ]
     },
     "execution_count": 21,
     "metadata": {},
     "output_type": "execute_result"
    }
   ],
   "source": [
    "x_tr.columns"
   ]
  },
  {
   "cell_type": "code",
   "execution_count": 22,
   "id": "027c1e7f",
   "metadata": {},
   "outputs": [],
   "source": [
    "lm_coef=pd.DataFrame({\"features\":x_tr.columns,\"coef\":model_lm.coef_})"
   ]
  },
  {
   "cell_type": "code",
   "execution_count": 23,
   "id": "b9004f9c",
   "metadata": {},
   "outputs": [
    {
     "data": {
      "text/html": [
       "<div>\n",
       "<style scoped>\n",
       "    .dataframe tbody tr th:only-of-type {\n",
       "        vertical-align: middle;\n",
       "    }\n",
       "\n",
       "    .dataframe tbody tr th {\n",
       "        vertical-align: top;\n",
       "    }\n",
       "\n",
       "    .dataframe thead th {\n",
       "        text-align: right;\n",
       "    }\n",
       "</style>\n",
       "<table border=\"1\" class=\"dataframe\">\n",
       "  <thead>\n",
       "    <tr style=\"text-align: right;\">\n",
       "      <th></th>\n",
       "      <th>features</th>\n",
       "      <th>coef</th>\n",
       "    </tr>\n",
       "  </thead>\n",
       "  <tbody>\n",
       "    <tr>\n",
       "      <th>0</th>\n",
       "      <td>crim</td>\n",
       "      <td>-0.081490</td>\n",
       "    </tr>\n",
       "    <tr>\n",
       "      <th>1</th>\n",
       "      <td>zn</td>\n",
       "      <td>0.048041</td>\n",
       "    </tr>\n",
       "    <tr>\n",
       "      <th>2</th>\n",
       "      <td>indus</td>\n",
       "      <td>-0.005472</td>\n",
       "    </tr>\n",
       "    <tr>\n",
       "      <th>3</th>\n",
       "      <td>chas</td>\n",
       "      <td>3.062606</td>\n",
       "    </tr>\n",
       "    <tr>\n",
       "      <th>4</th>\n",
       "      <td>nox</td>\n",
       "      <td>-16.136881</td>\n",
       "    </tr>\n",
       "    <tr>\n",
       "      <th>5</th>\n",
       "      <td>rm</td>\n",
       "      <td>3.672451</td>\n",
       "    </tr>\n",
       "    <tr>\n",
       "      <th>6</th>\n",
       "      <td>age</td>\n",
       "      <td>-0.008515</td>\n",
       "    </tr>\n",
       "    <tr>\n",
       "      <th>7</th>\n",
       "      <td>dis</td>\n",
       "      <td>-1.517409</td>\n",
       "    </tr>\n",
       "    <tr>\n",
       "      <th>8</th>\n",
       "      <td>rad</td>\n",
       "      <td>0.287271</td>\n",
       "    </tr>\n",
       "    <tr>\n",
       "      <th>9</th>\n",
       "      <td>tax</td>\n",
       "      <td>-0.012121</td>\n",
       "    </tr>\n",
       "    <tr>\n",
       "      <th>10</th>\n",
       "      <td>ptratio</td>\n",
       "      <td>-0.924161</td>\n",
       "    </tr>\n",
       "    <tr>\n",
       "      <th>11</th>\n",
       "      <td>black</td>\n",
       "      <td>0.009535</td>\n",
       "    </tr>\n",
       "    <tr>\n",
       "      <th>12</th>\n",
       "      <td>lstat</td>\n",
       "      <td>-0.485896</td>\n",
       "    </tr>\n",
       "  </tbody>\n",
       "</table>\n",
       "</div>"
      ],
      "text/plain": [
       "   features       coef\n",
       "0      crim  -0.081490\n",
       "1        zn   0.048041\n",
       "2     indus  -0.005472\n",
       "3      chas   3.062606\n",
       "4       nox -16.136881\n",
       "5        rm   3.672451\n",
       "6       age  -0.008515\n",
       "7       dis  -1.517409\n",
       "8       rad   0.287271\n",
       "9       tax  -0.012121\n",
       "10  ptratio  -0.924161\n",
       "11    black   0.009535\n",
       "12    lstat  -0.485896"
      ]
     },
     "execution_count": 23,
     "metadata": {},
     "output_type": "execute_result"
    }
   ],
   "source": [
    "lm_coef"
   ]
  },
  {
   "cell_type": "code",
   "execution_count": 24,
   "id": "85e86153",
   "metadata": {},
   "outputs": [],
   "source": [
    "import seaborn as sns"
   ]
  },
  {
   "cell_type": "code",
   "execution_count": 25,
   "id": "b2a66cc2",
   "metadata": {},
   "outputs": [
    {
     "data": {
      "text/plain": [
       "<AxesSubplot:xlabel='features', ylabel='coef'>"
      ]
     },
     "execution_count": 25,
     "metadata": {},
     "output_type": "execute_result"
    },
    {
     "data": {
      "image/png": "[encoded data removed]",
      "text/plain": [
       "<Figure size 432x288 with 1 Axes>"
      ]
     },
     "metadata": {
      "needs_background": "light"
     },
     "output_type": "display_data"
    }
   ],
   "source": [
    "sns.barplot(x=\"features\",y=\"coef\",data=lm_coef)"
   ]
  },
  {
   "cell_type": "markdown",
   "id": "39f1c983",
   "metadata": {},
   "source": [
    "# Ridge Regression"
   ]
  },
  {
   "cell_type": "code",
   "execution_count": 26,
   "id": "ab2451c9",
   "metadata": {},
   "outputs": [],
   "source": [
    "from sklearn.linear_model import Ridge"
   ]
  },
  {
   "cell_type": "code",
   "execution_count": 27,
   "id": "5e8aea09",
   "metadata": {},
   "outputs": [],
   "source": [
    "model_ridge=Ridge(alpha=1.0) # make changes in alpha to reduce error "
   ]
  },
  {
   "cell_type": "code",
   "execution_count": 28,
   "id": "1e688c9a",
   "metadata": {},
   "outputs": [],
   "source": [
    "mse,bias,variance=bias_variance_decomp(model_ridge,x_tr.values,y_tr.values,x_test.values,y_test.values,loss=\"mse\",num_rounds=200,random_seed=1)"
   ]
  },
  {
   "cell_type": "code",
   "execution_count": 29,
   "id": "97f8ee7e",
   "metadata": {},
   "outputs": [
    {
     "name": "stdout",
     "output_type": "stream",
     "text": [
      "mse 25.511995721145105\n",
      "bias 24.258097493088872\n",
      "variance 1.2538982280562316\n"
     ]
    }
   ],
   "source": [
    "print(\"mse\",mse)\n",
    "print(\"bias\",bias)\n",
    "print(\"variance\",variance)"
   ]
  },
  {
   "cell_type": "code",
   "execution_count": 30,
   "id": "5c045dfb",
   "metadata": {},
   "outputs": [
    {
     "data": {
      "text/plain": [
       "Ridge()"
      ]
     },
     "execution_count": 30,
     "metadata": {},
     "output_type": "execute_result"
    }
   ],
   "source": [
    "model_ridge.fit(x_tr,y_tr)"
   ]
  },
  {
   "cell_type": "code",
   "execution_count": 31,
   "id": "fbff5a70",
   "metadata": {},
   "outputs": [],
   "source": [
    "p_tr=model_ridge.predict(x_tr)"
   ]
  },
  {
   "cell_type": "code",
   "execution_count": 32,
   "id": "569d8e8c",
   "metadata": {},
   "outputs": [],
   "source": [
    "p_ridge=model_ridge.predict(x_test)"
   ]
  },
  {
   "cell_type": "code",
   "execution_count": 33,
   "id": "d9d26017",
   "metadata": {},
   "outputs": [
    {
     "data": {
      "text/plain": [
       "0.7317557471152678"
      ]
     },
     "execution_count": 33,
     "metadata": {},
     "output_type": "execute_result"
    }
   ],
   "source": [
    "r2_score(y_tr,p_tr)"
   ]
  },
  {
   "cell_type": "code",
   "execution_count": 34,
   "id": "9f2e1cc6",
   "metadata": {},
   "outputs": [
    {
     "data": {
      "text/plain": [
       "0.7500978146031212"
      ]
     },
     "execution_count": 34,
     "metadata": {},
     "output_type": "execute_result"
    }
   ],
   "source": [
    "r2_score(y_test,p_ridge)"
   ]
  },
  {
   "cell_type": "code",
   "execution_count": 35,
   "id": "7775906a",
   "metadata": {},
   "outputs": [
    {
     "data": {
      "text/plain": [
       "array([-0.07719067,  0.0492339 , -0.03353812,  2.89707307, -8.90767261,\n",
       "        3.7084372 , -0.01493201, -1.41030174,  0.27020095, -0.01286085,\n",
       "       -0.8465646 ,  0.00990576, -0.4941423 ])"
      ]
     },
     "execution_count": 35,
     "metadata": {},
     "output_type": "execute_result"
    }
   ],
   "source": [
    "model_ridge.coef_"
   ]
  },
  {
   "cell_type": "code",
   "execution_count": 36,
   "id": "92fbeae3",
   "metadata": {},
   "outputs": [],
   "source": [
    "ridge_coef=pd.DataFrame({\"features\":x_tr.columns,\"coef\":model_ridge.coef_})"
   ]
  },
  {
   "cell_type": "code",
   "execution_count": 37,
   "id": "8edb3de0",
   "metadata": {},
   "outputs": [
    {
     "data": {
      "text/html": [
       "<div>\n",
       "<style scoped>\n",
       "    .dataframe tbody tr th:only-of-type {\n",
       "        vertical-align: middle;\n",
       "    }\n",
       "\n",
       "    .dataframe tbody tr th {\n",
       "        vertical-align: top;\n",
       "    }\n",
       "\n",
       "    .dataframe thead th {\n",
       "        text-align: right;\n",
       "    }\n",
       "</style>\n",
       "<table border=\"1\" class=\"dataframe\">\n",
       "  <thead>\n",
       "    <tr style=\"text-align: right;\">\n",
       "      <th></th>\n",
       "      <th>features</th>\n",
       "      <th>coef</th>\n",
       "    </tr>\n",
       "  </thead>\n",
       "  <tbody>\n",
       "    <tr>\n",
       "      <th>0</th>\n",
       "      <td>crim</td>\n",
       "      <td>-0.077191</td>\n",
       "    </tr>\n",
       "    <tr>\n",
       "      <th>1</th>\n",
       "      <td>zn</td>\n",
       "      <td>0.049234</td>\n",
       "    </tr>\n",
       "    <tr>\n",
       "      <th>2</th>\n",
       "      <td>indus</td>\n",
       "      <td>-0.033538</td>\n",
       "    </tr>\n",
       "    <tr>\n",
       "      <th>3</th>\n",
       "      <td>chas</td>\n",
       "      <td>2.897073</td>\n",
       "    </tr>\n",
       "    <tr>\n",
       "      <th>4</th>\n",
       "      <td>nox</td>\n",
       "      <td>-8.907673</td>\n",
       "    </tr>\n",
       "    <tr>\n",
       "      <th>5</th>\n",
       "      <td>rm</td>\n",
       "      <td>3.708437</td>\n",
       "    </tr>\n",
       "    <tr>\n",
       "      <th>6</th>\n",
       "      <td>age</td>\n",
       "      <td>-0.014932</td>\n",
       "    </tr>\n",
       "    <tr>\n",
       "      <th>7</th>\n",
       "      <td>dis</td>\n",
       "      <td>-1.410302</td>\n",
       "    </tr>\n",
       "    <tr>\n",
       "      <th>8</th>\n",
       "      <td>rad</td>\n",
       "      <td>0.270201</td>\n",
       "    </tr>\n",
       "    <tr>\n",
       "      <th>9</th>\n",
       "      <td>tax</td>\n",
       "      <td>-0.012861</td>\n",
       "    </tr>\n",
       "    <tr>\n",
       "      <th>10</th>\n",
       "      <td>ptratio</td>\n",
       "      <td>-0.846565</td>\n",
       "    </tr>\n",
       "    <tr>\n",
       "      <th>11</th>\n",
       "      <td>black</td>\n",
       "      <td>0.009906</td>\n",
       "    </tr>\n",
       "    <tr>\n",
       "      <th>12</th>\n",
       "      <td>lstat</td>\n",
       "      <td>-0.494142</td>\n",
       "    </tr>\n",
       "  </tbody>\n",
       "</table>\n",
       "</div>"
      ],
      "text/plain": [
       "   features      coef\n",
       "0      crim -0.077191\n",
       "1        zn  0.049234\n",
       "2     indus -0.033538\n",
       "3      chas  2.897073\n",
       "4       nox -8.907673\n",
       "5        rm  3.708437\n",
       "6       age -0.014932\n",
       "7       dis -1.410302\n",
       "8       rad  0.270201\n",
       "9       tax -0.012861\n",
       "10  ptratio -0.846565\n",
       "11    black  0.009906\n",
       "12    lstat -0.494142"
      ]
     },
     "execution_count": 37,
     "metadata": {},
     "output_type": "execute_result"
    }
   ],
   "source": [
    "ridge_coef"
   ]
  },
  {
   "cell_type": "code",
   "execution_count": 38,
   "id": "984b7f85",
   "metadata": {},
   "outputs": [
    {
     "data": {
      "text/plain": [
       "<AxesSubplot:xlabel='features', ylabel='coef'>"
      ]
     },
     "execution_count": 38,
     "metadata": {},
     "output_type": "execute_result"
    },
    {
     "data": {
      "image/png": "[encoded data removed]",
      "text/plain": [
       "<Figure size 432x288 with 1 Axes>"
      ]
     },
     "metadata": {
      "needs_background": "light"
     },
     "output_type": "display_data"
    }
   ],
   "source": [
    "sns.barplot(x=\"features\",y=\"coef\",data=ridge_coef)"
   ]
  },
  {
   "cell_type": "code",
   "execution_count": 55,
   "id": "1b88a6b5",
   "metadata": {},
   "outputs": [],
   "source": [
    "model_ridge=Ridge(alpha=2.0)"
   ]
  },
  {
   "cell_type": "code",
   "execution_count": 56,
   "id": "21e75d02",
   "metadata": {},
   "outputs": [],
   "source": [
    "mse,bias,variance=bias_variance_decomp(model_ridge,x_tr.values,y_tr.values,x_test.values,y_test.values,loss=\"mse\",num_rounds=200,random_seed=1)"
   ]
  },
  {
   "cell_type": "code",
   "execution_count": 57,
   "id": "4c1f1a6e",
   "metadata": {},
   "outputs": [
    {
     "name": "stdout",
     "output_type": "stream",
     "text": [
      "mse 25.775887186629998\n",
      "bias 24.52690913636444\n",
      "variance 1.2489780502655594\n"
     ]
    }
   ],
   "source": [
    "print(\"mse\",mse)\n",
    "print(\"bias\",bias)\n",
    "print(\"variance\",variance)"
   ]
  },
  {
   "cell_type": "markdown",
   "id": "30ffa0be",
   "metadata": {},
   "source": [
    "Error has increased. Try other values of alpha."
   ]
  },
  {
   "cell_type": "code",
   "execution_count": 58,
   "id": "ca5bfa94",
   "metadata": {},
   "outputs": [],
   "source": [
    "model_ridge=Ridge(alpha=0.01)"
   ]
  },
  {
   "cell_type": "code",
   "execution_count": 59,
   "id": "758983a9",
   "metadata": {},
   "outputs": [],
   "source": [
    "mse,bias,variance=bias_variance_decomp(model_ridge,x_tr.values,y_tr.values,x_test.values,y_test.values,loss=\"mse\",num_rounds=200,random_seed=1)"
   ]
  },
  {
   "cell_type": "code",
   "execution_count": 60,
   "id": "bf5f91f5",
   "metadata": {},
   "outputs": [
    {
     "name": "stdout",
     "output_type": "stream",
     "text": [
      "mse 24.999535500559126\n",
      "bias 23.728114039203792\n",
      "variance 1.271421461355333\n"
     ]
    }
   ],
   "source": [
    "print(\"mse\",mse)\n",
    "print(\"bias\",bias)\n",
    "print(\"variance\",variance)"
   ]
  },
  {
   "cell_type": "markdown",
   "id": "e38a0edf",
   "metadata": {},
   "source": [
    "MSE value had decreased."
   ]
  },
  {
   "cell_type": "code",
   "execution_count": 61,
   "id": "8157da0b",
   "metadata": {},
   "outputs": [],
   "source": [
    "model_ridge=Ridge(alpha=0.001)"
   ]
  },
  {
   "cell_type": "code",
   "execution_count": 62,
   "id": "94a5a281",
   "metadata": {},
   "outputs": [],
   "source": [
    "mse,bias,variance=bias_variance_decomp(model_ridge,x_tr.values,y_tr.values,x_test.values,y_test.values,loss=\"mse\",num_rounds=200,random_seed=1)"
   ]
  },
  {
   "cell_type": "code",
   "execution_count": 63,
   "id": "40b353ae",
   "metadata": {},
   "outputs": [
    {
     "name": "stdout",
     "output_type": "stream",
     "text": [
      "mse 24.99353949601843\n",
      "bias 23.72159314480972\n",
      "variance 1.2719463512087092\n"
     ]
    }
   ],
   "source": [
    "print(\"mse\",mse)\n",
    "print(\"bias\",bias)\n",
    "print(\"variance\",variance)"
   ]
  },
  {
   "cell_type": "code",
   "execution_count": 64,
   "id": "f8edde7b",
   "metadata": {},
   "outputs": [],
   "source": [
    "model_ridge=Ridge(alpha=0.0001)"
   ]
  },
  {
   "cell_type": "code",
   "execution_count": 65,
   "id": "95fce4ef",
   "metadata": {},
   "outputs": [],
   "source": [
    "mse,bias,variance=bias_variance_decomp(model_ridge,x_tr.values,y_tr.values,x_test.values,y_test.values,loss=\"mse\",num_rounds=200,random_seed=1)"
   ]
  },
  {
   "cell_type": "code",
   "execution_count": 66,
   "id": "186142b1",
   "metadata": {},
   "outputs": [
    {
     "name": "stdout",
     "output_type": "stream",
     "text": [
      "mse 24.992939872054517\n",
      "bias 23.720940038807232\n",
      "variance 1.2719998332472897\n"
     ]
    }
   ],
   "source": [
    "print(\"mse\",mse)\n",
    "print(\"bias\",bias)\n",
    "print(\"variance\",variance)"
   ]
  },
  {
   "cell_type": "code",
   "execution_count": 67,
   "id": "8017c688",
   "metadata": {},
   "outputs": [],
   "source": [
    "model_ridge=Ridge(alpha=3)"
   ]
  },
  {
   "cell_type": "code",
   "execution_count": 68,
   "id": "0f07f295",
   "metadata": {},
   "outputs": [],
   "source": [
    "mse,bias,variance=bias_variance_decomp(model_ridge,x_tr.values,y_tr.values,x_test.values,y_test.values,loss=\"mse\",num_rounds=200,random_seed=1)"
   ]
  },
  {
   "cell_type": "code",
   "execution_count": 69,
   "id": "0a631231",
   "metadata": {},
   "outputs": [
    {
     "name": "stdout",
     "output_type": "stream",
     "text": [
      "mse 25.923295535956104\n",
      "bias 24.680145555733343\n",
      "variance 1.2431499802227508\n"
     ]
    }
   ],
   "source": [
    "print(\"mse\",mse)\n",
    "print(\"bias\",bias)\n",
    "print(\"variance\",variance)"
   ]
  },
  {
   "cell_type": "code",
   "execution_count": null,
   "id": "02e885ea",
   "metadata": {},
   "outputs": [],
   "source": []
  },
  {
   "cell_type": "markdown",
   "id": "068fa2ba",
   "metadata": {},
   "source": [
    "# Lasso Regression"
   ]
  },
  {
   "cell_type": "code",
   "execution_count": 39,
   "id": "1626a806",
   "metadata": {},
   "outputs": [],
   "source": [
    "from sklearn.linear_model import Lasso"
   ]
  },
  {
   "cell_type": "code",
   "execution_count": 40,
   "id": "c0cb414d",
   "metadata": {},
   "outputs": [],
   "source": [
    "model_lasso=Lasso(alpha=2.0)"
   ]
  },
  {
   "cell_type": "code",
   "execution_count": 41,
   "id": "5560aee1",
   "metadata": {},
   "outputs": [],
   "source": [
    "mse,bias,variance=bias_variance_decomp(model_lasso,x_tr.values,y_tr.values,x_test.values,y_test.values,loss=\"mse\",num_rounds=200,random_seed=1)"
   ]
  },
  {
   "cell_type": "code",
   "execution_count": 42,
   "id": "ae92ebbb",
   "metadata": {},
   "outputs": [
    {
     "name": "stdout",
     "output_type": "stream",
     "text": [
      "mse 37.53969667225071\n",
      "bias 36.64749355616429\n",
      "variance 0.8922031160864204\n"
     ]
    }
   ],
   "source": [
    "print(\"mse\",mse)\n",
    "print(\"bias\",bias)\n",
    "print(\"variance\",variance)"
   ]
  },
  {
   "cell_type": "code",
   "execution_count": 43,
   "id": "a71743ac",
   "metadata": {},
   "outputs": [
    {
     "data": {
      "text/plain": [
       "Lasso(alpha=2.0)"
      ]
     },
     "execution_count": 43,
     "metadata": {},
     "output_type": "execute_result"
    }
   ],
   "source": [
    "model_lasso.fit(x_tr,y_tr)"
   ]
  },
  {
   "cell_type": "code",
   "execution_count": 44,
   "id": "0f553ecf",
   "metadata": {},
   "outputs": [],
   "source": [
    "p_lasso=model_lasso.predict(x_test)"
   ]
  },
  {
   "cell_type": "code",
   "execution_count": 45,
   "id": "e4cc1e0f",
   "metadata": {},
   "outputs": [
    {
     "data": {
      "text/plain": [
       "0.6165599742642132"
      ]
     },
     "execution_count": 45,
     "metadata": {},
     "output_type": "execute_result"
    }
   ],
   "source": [
    "r2_score(y_test,p_lasso)"
   ]
  },
  {
   "cell_type": "code",
   "execution_count": 46,
   "id": "e773abed",
   "metadata": {},
   "outputs": [
    {
     "data": {
      "text/plain": [
       "array([-0.        ,  0.03926957, -0.        ,  0.        , -0.        ,\n",
       "        0.        ,  0.03704284, -0.05460344,  0.18042636, -0.01259089,\n",
       "       -0.50924698,  0.00637041, -0.78271555])"
      ]
     },
     "execution_count": 46,
     "metadata": {},
     "output_type": "execute_result"
    }
   ],
   "source": [
    "model_lasso.coef_"
   ]
  },
  {
   "cell_type": "code",
   "execution_count": 47,
   "id": "51dbedeb",
   "metadata": {},
   "outputs": [],
   "source": [
    "lasso_coef=pd.DataFrame({\"features\":x_tr.columns,\"coef\":model_lasso.coef_})"
   ]
  },
  {
   "cell_type": "code",
   "execution_count": 48,
   "id": "a3d6dad8",
   "metadata": {},
   "outputs": [
    {
     "data": {
      "text/html": [
       "<div>\n",
       "<style scoped>\n",
       "    .dataframe tbody tr th:only-of-type {\n",
       "        vertical-align: middle;\n",
       "    }\n",
       "\n",
       "    .dataframe tbody tr th {\n",
       "        vertical-align: top;\n",
       "    }\n",
       "\n",
       "    .dataframe thead th {\n",
       "        text-align: right;\n",
       "    }\n",
       "</style>\n",
       "<table border=\"1\" class=\"dataframe\">\n",
       "  <thead>\n",
       "    <tr style=\"text-align: right;\">\n",
       "      <th></th>\n",
       "      <th>features</th>\n",
       "      <th>coef</th>\n",
       "    </tr>\n",
       "  </thead>\n",
       "  <tbody>\n",
       "    <tr>\n",
       "      <th>0</th>\n",
       "      <td>crim</td>\n",
       "      <td>-0.000000</td>\n",
       "    </tr>\n",
       "    <tr>\n",
       "      <th>1</th>\n",
       "      <td>zn</td>\n",
       "      <td>0.039270</td>\n",
       "    </tr>\n",
       "    <tr>\n",
       "      <th>2</th>\n",
       "      <td>indus</td>\n",
       "      <td>-0.000000</td>\n",
       "    </tr>\n",
       "    <tr>\n",
       "      <th>3</th>\n",
       "      <td>chas</td>\n",
       "      <td>0.000000</td>\n",
       "    </tr>\n",
       "    <tr>\n",
       "      <th>4</th>\n",
       "      <td>nox</td>\n",
       "      <td>-0.000000</td>\n",
       "    </tr>\n",
       "    <tr>\n",
       "      <th>5</th>\n",
       "      <td>rm</td>\n",
       "      <td>0.000000</td>\n",
       "    </tr>\n",
       "    <tr>\n",
       "      <th>6</th>\n",
       "      <td>age</td>\n",
       "      <td>0.037043</td>\n",
       "    </tr>\n",
       "    <tr>\n",
       "      <th>7</th>\n",
       "      <td>dis</td>\n",
       "      <td>-0.054603</td>\n",
       "    </tr>\n",
       "    <tr>\n",
       "      <th>8</th>\n",
       "      <td>rad</td>\n",
       "      <td>0.180426</td>\n",
       "    </tr>\n",
       "    <tr>\n",
       "      <th>9</th>\n",
       "      <td>tax</td>\n",
       "      <td>-0.012591</td>\n",
       "    </tr>\n",
       "    <tr>\n",
       "      <th>10</th>\n",
       "      <td>ptratio</td>\n",
       "      <td>-0.509247</td>\n",
       "    </tr>\n",
       "    <tr>\n",
       "      <th>11</th>\n",
       "      <td>black</td>\n",
       "      <td>0.006370</td>\n",
       "    </tr>\n",
       "    <tr>\n",
       "      <th>12</th>\n",
       "      <td>lstat</td>\n",
       "      <td>-0.782716</td>\n",
       "    </tr>\n",
       "  </tbody>\n",
       "</table>\n",
       "</div>"
      ],
      "text/plain": [
       "   features      coef\n",
       "0      crim -0.000000\n",
       "1        zn  0.039270\n",
       "2     indus -0.000000\n",
       "3      chas  0.000000\n",
       "4       nox -0.000000\n",
       "5        rm  0.000000\n",
       "6       age  0.037043\n",
       "7       dis -0.054603\n",
       "8       rad  0.180426\n",
       "9       tax -0.012591\n",
       "10  ptratio -0.509247\n",
       "11    black  0.006370\n",
       "12    lstat -0.782716"
      ]
     },
     "execution_count": 48,
     "metadata": {},
     "output_type": "execute_result"
    }
   ],
   "source": [
    "lasso_coef"
   ]
  },
  {
   "cell_type": "code",
   "execution_count": 49,
   "id": "86b92865",
   "metadata": {},
   "outputs": [
    {
     "data": {
      "text/plain": [
       "<AxesSubplot:xlabel='features', ylabel='coef'>"
      ]
     },
     "execution_count": 49,
     "metadata": {},
     "output_type": "execute_result"
    },
    {
     "data": {
      "image/png": "[encoded data removed]",
      "text/plain": [
       "<Figure size 432x288 with 1 Axes>"
      ]
     },
     "metadata": {
      "needs_background": "light"
     },
     "output_type": "display_data"
    }
   ],
   "source": [
    "sns.barplot(x=\"features\",y=\"coef\",data=lasso_coef)"
   ]
  },
  {
   "cell_type": "code",
   "execution_count": 50,
   "id": "97292ed0",
   "metadata": {},
   "outputs": [],
   "source": [
    "# Plot of Bias and Variance \n",
    "\n",
    "mse_list=[]\n",
    "bias_list=[]\n",
    "variance_list=[]\n",
    "alpha_list=[x for x in range(1,21)]\n",
    "for i in alpha_list:\n",
    "    model=Ridge(alpha=i)\n",
    "    mse,bias,variance=bias_variance_decomp(model,x_tr.values,y_tr.values,x_test.values,y_test.values,loss=\"mse\",num_rounds=200,random_seed=1)\n",
    "    mse_list.append(mse)\n",
    "    bias_list.append(bias)\n",
    "    variance_list.append(variance)\n",
    "    \n",
    "    "
   ]
  },
  {
   "cell_type": "code",
   "execution_count": 51,
   "id": "e3d8bf03",
   "metadata": {},
   "outputs": [
    {
     "data": {
      "text/plain": [
       "<seaborn.axisgrid.FacetGrid at 0x1ba5d7ea2b0>"
      ]
     },
     "execution_count": 51,
     "metadata": {},
     "output_type": "execute_result"
    },
    {
     "data": {
      "image/png": "[encoded data removed]",
      "text/plain": [
       "<Figure size 360x360 with 1 Axes>"
      ]
     },
     "metadata": {
      "needs_background": "light"
     },
     "output_type": "display_data"
    }
   ],
   "source": [
    "sns.relplot(x=bias_list,y=mse_list,kind=\"line\")"
   ]
  },
  {
   "cell_type": "code",
   "execution_count": 52,
   "id": "890f9bd9",
   "metadata": {},
   "outputs": [
    {
     "data": {
      "text/plain": [
       "<seaborn.axisgrid.FacetGrid at 0x1ba5d8dcc70>"
      ]
     },
     "execution_count": 52,
     "metadata": {},
     "output_type": "execute_result"
    },
    {
     "data": {
      "image/png": "[encoded data removed]",
      "text/plain": [
       "<Figure size 360x360 with 1 Axes>"
      ]
     },
     "metadata": {
      "needs_background": "light"
     },
     "output_type": "display_data"
    }
   ],
   "source": [
    "sns. relplot(x=variance_list,y=mse_list,kind=\"line\")"
   ]
  },
  {
   "cell_type": "code",
   "execution_count": 53,
   "id": "53bc5eda",
   "metadata": {},
   "outputs": [
    {
     "data": {
      "text/plain": [
       "<seaborn.axisgrid.FacetGrid at 0x1ba5d9a28e0>"
      ]
     },
     "execution_count": 53,
     "metadata": {},
     "output_type": "execute_result"
    },
    {
     "data": {
      "image/png": "[encoded data removed]",
      "text/plain": [
       "<Figure size 360x360 with 1 Axes>"
      ]
     },
     "metadata": {
      "needs_background": "light"
     },
     "output_type": "display_data"
    }
   ],
   "source": [
    "sns.relplot(x=alpha_list,y=bias_list,kind=\"line\")"
   ]
  },
  {
   "cell_type": "code",
   "execution_count": 54,
   "id": "b59464df",
   "metadata": {},
   "outputs": [
    {
     "data": {
      "text/plain": [
       "<seaborn.axisgrid.FacetGrid at 0x1ba5d7ea160>"
      ]
     },
     "execution_count": 54,
     "metadata": {},
     "output_type": "execute_result"
    },
    {
     "data": {
      "image/png": "[encoded data removed]",
      "text/plain": [
       "<Figure size 360x360 with 1 Axes>"
      ]
     },
     "metadata": {
      "needs_background": "light"
     },
     "output_type": "display_data"
    }
   ],
   "source": [
    "sns.relplot(x=alpha_list,y=variance_list,kind=\"line\")"
   ]
  },
  {
   "cell_type": "code",
   "execution_count": null,
   "id": "17ea87af",
   "metadata": {},
   "outputs": [],
   "source": []
  }
 ],
 "metadata": {
  "kernelspec": {
   "display_name": "Python 3",
   "language": "python",
   "name": "python3"
  },
  "language_info": {
   "codemirror_mode": {
    "name": "ipython",
    "version": 3
   },
   "file_extension": ".py",
   "mimetype": "text/x-python",
   "name": "python",
   "nbconvert_exporter": "python",
   "pygments_lexer": "ipython3",
   "version": "3.8.8"
  }
 },
 "nbformat": 4,
 "nbformat_minor": 5
}
